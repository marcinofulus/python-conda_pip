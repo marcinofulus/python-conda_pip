{
 "cells": [
  {
   "cell_type": "markdown",
   "metadata": {
    "slideshow": {
     "slide_type": "slide"
    }
   },
   "source": [
    "# What is Jupyter ?\n",
    "\n",
    "<img src=\"https://jupyter.org/assets/main-logo.svg\" alt=\"drawing\" align='right'  width=\"15%\">\n",
    "\n",
    "\n",
    "- Spun-off from IPython in 2014 by Fernando Pérez,\n",
    "- execution environments in several dozen languages.\n",
    "\n",
    "\n",
    "*Project Jupyter exists to develop open-source software, open-standards, and services for interactive computing across dozens of programming languages.*\n",
    "\n",
    "*\"Jupyter will always be 100% open-source software, free for all to use and released under the liberal terms of the modified BSD license*\n",
    "\n",
    "\n",
    "<img src=\"https://eacea.ec.europa.eu/sites/eacea-site/files/logosbeneficaireserasmusleft_en.jpg\" width=40% align=\"center\">\n"
   ]
  },
  {
   "cell_type": "markdown",
   "metadata": {
    "slideshow": {
     "slide_type": "slide"
    }
   },
   "source": [
    "## Jupyter Notebook\n",
    "\n",
    " - a Jupyter Notebook document is a JSON document \n",
    " - ordered list of input/output cells \n",
    " - cells  can contain code, text (using Markdown), mathematics, plots and rich media, \n",
    " - usually ending with the \".ipynb\" extension.*\n",
    " - Jupyter interest overtook the popularity of the Mathematica notebook interface in early 2018 [link](https://trends.google.com/trends/explore?date=all&geo=US&q=Mathematica,Jupyter)\n",
    " \n"
   ]
  },
  {
   "cell_type": "markdown",
   "metadata": {
    "slideshow": {
     "slide_type": "slide"
    }
   },
   "source": [
    "## Jupyter kernels\n",
    "\n",
    "<img src=\"https://jupyter.readthedocs.io/en/latest/_images/notebook_components.png\" align='right' alt=\"drawing\" width=\"50%\"/>\n",
    "\n",
    "\n",
    " - a program responsible for handling various types of request\n",
    " - [List of kernels](https://github.com/jupyter/jupyter/wiki/Jupyter-kernels)\n",
    " - Python/R/Julia/SageMath\n",
    " \n",
    " "
   ]
  },
  {
   "cell_type": "markdown",
   "metadata": {
    "slideshow": {
     "slide_type": "slide"
    }
   },
   "source": [
    "## Jupyterhub\n",
    "\n",
    "<img src=\"https://jupyter.org/assets/hublogo.svg\" align='right' alt=\"drawing\" width=\"30%\"/>\n",
    "\n",
    " - system serving Jupyter notebooks for multiple users\n",
    " - flexible\n",
    " - extensible\n"
   ]
  },
  {
   "cell_type": "markdown",
   "metadata": {
    "slideshow": {
     "slide_type": "slide"
    }
   },
   "source": [
    "# How to use Jupyter?\n",
    "\n",
    "<img src=\"https://jupyter.readthedocs.io/en/latest/_images/nbconvert.png\" align='right' alt=\"drawing\" width=\"50%\"/>\n",
    "\n",
    " - stand alone application \n",
    " - central installation\n",
    " - container (mybinder)\n",
    " - notebook format processing, e.g. for book authoring\n",
    "\n",
    " "
   ]
  },
  {
   "cell_type": "markdown",
   "metadata": {
    "slideshow": {
     "slide_type": "slide"
    }
   },
   "source": [
    "# Who is using Jupyter?\n",
    "\n",
    " - data scientists \n",
    " - code exploration, prototypying with code and software\n",
    " - educators - it can be easily used in schools/universities at many levels\n",
    " -  example: *Canadians Land on Jupyter* [link at blog.jupyter.org](https://blog.jupyter.org/national-scale-interactive-computing-2c104455e062)\n",
    " \n",
    " "
   ]
  },
  {
   "cell_type": "markdown",
   "metadata": {
    "slideshow": {
     "slide_type": "slide"
    }
   },
   "source": [
    "# Jupyter @ SMCEBI - jupyterhub\n",
    "\n",
    "- Central installation for students and researchers\n",
    " - LDAP\n",
    " - backuped home\n",
    " - SLURM for scalability\n",
    " \n",
    "- Isolated instances with OAuth\n",
    " - gmail as login\n",
    " - admin can whitelist users\n",
    " - isolated but not backuped \n",
    "\n",
    "- special installation  of nbgrader for selected coursed\n"
   ]
  },
  {
   "cell_type": "markdown",
   "metadata": {
    "slideshow": {
     "slide_type": "slide"
    }
   },
   "source": [
    "# Stats, experiences\n",
    "\n",
    " - We have c.a. active 400 users of `alfa` system which is used for many courses\n",
    " - In total 1500 accounts in LDAP have been created.\n",
    " - We conducted evaluation: [Pool](https://jupyter4edu.smcebi.edu.pl/evaluation)"
   ]
  },
  {
   "cell_type": "markdown",
   "metadata": {
    "slideshow": {
     "slide_type": "subslide"
    }
   },
   "source": [
    "## A general assessment of experience in working with a jupyter notebook?\n",
    "\n",
    "![](https://lh6.googleusercontent.com/r3_IOHdyNUu5p33CTbE6mopiy6-nZukw9-hmgnz_VUO2fkGBI2Ud30eusXv71EZSLMRP7cMicLBCxnHOV2e9vlH4ZxgV6dY2jDThaWvkvXI04myK9B91=w1075)"
   ]
  },
  {
   "cell_type": "markdown",
   "metadata": {
    "slideshow": {
     "slide_type": "slide"
    }
   },
   "source": [
    "# Jupyter in practice  (edu)\n",
    "\n",
    "- Introduction to AI 30+30h\n",
    "- nbgrader was used \n",
    "- Jupyter was a main tool\n",
    "- rather positive feedbacks\n",
    "- nbgrader requires **faultless**  problems and tests."
   ]
  },
  {
   "cell_type": "markdown",
   "metadata": {
    "slideshow": {
     "slide_type": "slide"
    }
   },
   "source": [
    "## Conclusions\n",
    "\n",
    "**Jupyter is the new Excel**\n",
    "\n"
   ]
  },
  {
   "cell_type": "markdown",
   "metadata": {
    "slideshow": {
     "slide_type": "subslide"
    }
   },
   "source": [
    "**but not for your boss**\n",
    "\n",
    "  1. https://towardsdatascience.com/jupyter-is-the-new-excel-but-not-for-your-boss-d24340ebf314\n",
    "  2. https://towardsdatascience.com/jupyter-is-the-new-excel-a7a22f2fc13a"
   ]
  },
  {
   "cell_type": "markdown",
   "metadata": {
    "slideshow": {
     "slide_type": "slide"
    }
   },
   "source": [
    "## Jupyter notebook examples"
   ]
  },
  {
   "cell_type": "markdown",
   "metadata": {
    "slideshow": {
     "slide_type": "subslide"
    }
   },
   "source": [
    " ![k](https://jupyter.org/assets/jupyterpreview.png)"
   ]
  },
  {
   "cell_type": "code",
   "execution_count": 1,
   "metadata": {
    "slideshow": {
     "slide_type": "subslide"
    }
   },
   "outputs": [],
   "source": [
    "from ipywidgets import IntSlider, interact"
   ]
  },
  {
   "cell_type": "code",
   "execution_count": 2,
   "metadata": {
    "slideshow": {
     "slide_type": "subslide"
    }
   },
   "outputs": [
    {
     "data": {
      "application/vnd.jupyter.widget-view+json": {
       "model_id": "cc1c772dbfe04a4282fa49a5aea703b9",
       "version_major": 2,
       "version_minor": 0
      },
      "text/plain": [
       "interactive(children=(IntSlider(value=0, description='s'), Output()), _dom_classes=('widget-interact',))"
      ]
     },
     "metadata": {},
     "output_type": "display_data"
    }
   ],
   "source": [
    "@interact(s=IntSlider())\n",
    "def fun(s):\n",
    "    print(s)\n",
    "    for i in range(s):\n",
    "        for j in range(s):\n",
    "            print(i,end=' ')\n",
    "        print()"
   ]
  },
  {
   "cell_type": "code",
   "execution_count": 4,
   "metadata": {
    "slideshow": {
     "slide_type": "subslide"
    }
   },
   "outputs": [
    {
     "data": {
      "application/vnd.jupyter.widget-view+json": {
       "model_id": "962a296364c741b79a05e5248de494ed",
       "version_major": 2,
       "version_minor": 0
      },
      "text/plain": [
       "Output()"
      ]
     },
     "metadata": {},
     "output_type": "display_data"
    }
   ],
   "source": [
    "import k3d\n",
    "import numpy as np\n",
    "p = k3d.plot(height=400)\n",
    "x = np.linspace(0,3,30).astype(np.float32)\n",
    "x,y = np.meshgrid(x,x)\n",
    "p += k3d.surface(np.sin(1*x**2+1*y**2),bounds=(0,10,0,10))\n",
    "p.display()"
   ]
  },
  {
   "cell_type": "code",
   "execution_count": 5,
   "metadata": {
    "slideshow": {
     "slide_type": "fragment"
    }
   },
   "outputs": [],
   "source": [
    "for f in np.linspace(0,6,100):\n",
    "    p.objects[0].heights = np.sin(1*x**2+1*y**2+f)"
   ]
  },
  {
   "cell_type": "code",
   "execution_count": 6,
   "metadata": {
    "slideshow": {
     "slide_type": "subslide"
    }
   },
   "outputs": [],
   "source": [
    "%matplotlib inline\n",
    "import matplotlib.pyplot as plt\n",
    "import numpy as np"
   ]
  },
  {
   "cell_type": "code",
   "execution_count": 7,
   "metadata": {
    "slideshow": {
     "slide_type": "subslide"
    }
   },
   "outputs": [
    {
     "data": {
      "text/plain": [
       "<matplotlib.collections.PathCollection at 0x7f997a87e790>"
      ]
     },
     "execution_count": 7,
     "metadata": {},
     "output_type": "execute_result"
    },
    {
     "data": {
      "image/png": "[encoded data removed]",
      "text/plain": [
       "<Figure size 432x288 with 1 Axes>"
      ]
     },
     "metadata": {
      "needs_background": "light"
     },
     "output_type": "display_data"
    }
   ],
   "source": [
    "plt.scatter(np.random.randn(1000),\n",
    "            np.random.randn(1000),\n",
    "            c=np.random.randn(1000), s=100)"
   ]
  }
 ],
 "metadata": {
  "celltoolbar": "Slideshow",
  "kernelspec": {
   "display_name": "Python 3",
   "language": "python",
   "name": "python3"
  },
  "language_info": {
   "codemirror_mode": {
    "name": "ipython",
    "version": 3
   },
   "file_extension": ".py",
   "mimetype": "text/x-python",
   "name": "python",
   "nbconvert_exporter": "python",
   "pygments_lexer": "ipython3",
   "version": "3.7.4"
  },
  "nbTranslate": {
   "displayLangs": [
    "en",
    "pl"
   ],
   "hotkey": "alt-t",
   "langInMainMenu": true,
   "sourceLang": "pl",
   "targetLang": "en",
   "useGoogleTranslate": true
  },
  "toc": {
   "base_numbering": 1,
   "nav_menu": {},
   "number_sections": true,
   "sideBar": true,
   "skip_h1_title": false,
   "title_cell": "Table of Contents",
   "title_sidebar": "Contents",
   "toc_cell": false,
   "toc_position": {},
   "toc_section_display": true,
   "toc_window_display": false
  },
  "widgets": {
   "application/vnd.jupyter.widget-state+json": {
    "state": {
     "0756b77b645743948616691e03f95b06": {
      "model_module": "@jupyter-widgets/controls",
      "model_module_version": "1.5.0",
      "model_name": "IntSliderModel",
      "state": {
       "description": "s",
       "layout": "IPY_MODEL_0c7a0518351a4baf93e848d9177dcdff",
       "style": "IPY_MODEL_67c5ecbc0ae64a9eb46dd3443d26982a",
       "value": 10
      }
     },
     "0c7a0518351a4baf93e848d9177dcdff": {
      "model_module": "@jupyter-widgets/base",
      "model_module_version": "1.2.0",
      "model_name": "LayoutModel",
      "state": {}
     },
     "13839c33c91347d3bd47124689078ea4": {
      "model_module": "k3d",
      "model_module_version": "2.7.2",
      "model_name": "PlotModel",
      "state": {
       "_backend_version": "2.7.2",
       "_dom_classes": [],
       "_view_count": null,
       "antialias": 3,
       "auto_rendering": true,
       "axes": [
        "x",
        "y",
        "z"
       ],
       "axes_helper": 1,
       "background_color": 16777215,
       "camera": [
        15.98058019914564,
        -6.426957238359794,
        6.668832257798198,
        5,
        5,
        -5.304813385009766e-06,
        -0.20634614489050446,
        0.2676468636329542,
        0.9411622734025576
       ],
       "camera_auto_fit": true,
       "camera_fov": 60,
       "camera_no_pan": false,
       "camera_no_rotate": false,
       "camera_no_zoom": false,
       "clipping_planes": [],
       "colorbar_object_id": -1,
       "fps": 25,
       "fps_meter": false,
       "grid": [
        -1,
        -1,
        -1,
        1,
        1,
        1
       ],
       "grid_auto_fit": true,
       "grid_visible": true,
       "height": 400,
       "layout": "IPY_MODEL_a64e6b7c0b3d45e0a31fc6217da95e6b",
       "lighting": 1.5,
       "menu_visibility": true,
       "mode": "view",
       "name": null,
       "object_ids": [
        140298008070544
       ],
       "rendering_steps": 1,
       "screenshot": "",
       "screenshot_scale": 2,
       "snapshot": "",
       "time": 0,
       "voxel_paint_color": 0
      }
     },
     "1efac533283c43579691255510eb53f5": {
      "model_module": "@jupyter-widgets/base",
      "model_module_version": "1.2.0",
      "model_name": "LayoutModel",
      "state": {}
     },
     "298e0c4d92ed46c09aa58b3a77f65719": {
      "model_module": "@jupyter-widgets/output",
      "model_module_version": "1.0.0",
      "model_name": "OutputModel",
      "state": {
       "layout": "IPY_MODEL_979fc1254eec4e61a0c01a7ca7bf37f1",
       "outputs": [
        {
         "data": {
          "application/vnd.jupyter.widget-view+json": {
           "model_id": "8f8924197c464c45a6eafd949da7fc01",
           "version_major": 2,
           "version_minor": 0
          },
          "text/plain": "Plot(antialias=3, axes=['x', 'y', 'z'], axes_helper=1.0, background_color=16777215, camera=[4.5, 4.5, 4.5, 0.0…"
         },
         "metadata": {},
         "output_type": "display_data"
        }
       ]
      }
     },
     "2ff78bf78bb849998cd49d41b633a21e": {
      "buffers": [
       {
        "data": "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",
        "encoding": "base64",
        "path": [
         "heights",
         "compressed_buffer"
        ]
       },
       {
        "data": "eNpjYFBwZICDBQ4QGiYG44NAgz0DBmiwBwCBkAQB",
        "encoding": "base64",
        "path": [
         "model_matrix",
         "compressed_buffer"
        ]
       }
      ],
      "model_module": "k3d",
      "model_module_version": "2.7.2",
      "model_name": "ObjectModel",
      "state": {
       "_view_count": null,
       "_view_module": null,
       "_view_module_version": "",
       "_view_name": null,
       "click_callback": false,
       "color": 255,
       "compression_level": 0,
       "flat_shading": true,
       "heights": {
        "dtype": "float32",
        "shape": [
         30,
         30
        ]
       },
       "hover_callback": false,
       "id": 140297170254224,
       "model_matrix": {
        "dtype": "float32",
        "shape": [
         4,
         4
        ]
       },
       "name": "Surface #1",
       "type": "Surface",
       "visible": true,
       "wireframe": false
      }
     },
     "4df9f81e1bf94edcb4d9edcaebbc7420": {
      "buffers": [
       {
        "data": "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",
        "encoding": "base64",
        "path": [
         "heights",
         "compressed_buffer"
        ]
       },
       {
        "data": "eNpjYFBwZICDBQ4QGiYG44NAgz0DBmiwBwCBkAQB",
        "encoding": "base64",
        "path": [
         "model_matrix",
         "compressed_buffer"
        ]
       }
      ],
      "model_module": "k3d",
      "model_module_version": "2.7.2",
      "model_name": "ObjectModel",
      "state": {
       "_view_count": null,
       "_view_module": null,
       "_view_module_version": "",
       "_view_name": null,
       "click_callback": false,
       "color": 255,
       "compression_level": 0,
       "flat_shading": true,
       "heights": {
        "dtype": "float32",
        "shape": [
         30,
         30
        ]
       },
       "hover_callback": false,
       "id": 140298008070544,
       "model_matrix": {
        "dtype": "float32",
        "shape": [
         4,
         4
        ]
       },
       "name": "Surface #1",
       "type": "Surface",
       "visible": true,
       "wireframe": false
      }
     },
     "67c5ecbc0ae64a9eb46dd3443d26982a": {
      "model_module": "@jupyter-widgets/controls",
      "model_module_version": "1.5.0",
      "model_name": "SliderStyleModel",
      "state": {
       "description_width": ""
      }
     },
     "8f8924197c464c45a6eafd949da7fc01": {
      "model_module": "k3d",
      "model_module_version": "2.7.2",
      "model_name": "PlotModel",
      "state": {
       "_backend_version": "2.7.2",
       "_dom_classes": [],
       "_view_count": null,
       "antialias": 3,
       "auto_rendering": true,
       "axes": [
        "x",
        "y",
        "z"
       ],
       "axes_helper": 1,
       "background_color": 16777215,
       "camera": [
        16.865807254085887,
        -12.798710881128834,
        1.1865754205952017,
        5,
        5,
        -5.304813385009766e-06,
        0,
        0,
        1
       ],
       "camera_auto_fit": true,
       "camera_fov": 60,
       "camera_no_pan": false,
       "camera_no_rotate": false,
       "camera_no_zoom": false,
       "clipping_planes": [],
       "colorbar_object_id": -1,
       "fps": 25,
       "fps_meter": false,
       "grid": [
        -1,
        -1,
        -1,
        1,
        1,
        1
       ],
       "grid_auto_fit": true,
       "grid_visible": true,
       "height": 400,
       "layout": "IPY_MODEL_905a10ae7e8c4781a3856ff7e3fe5fd0",
       "lighting": 1.5,
       "menu_visibility": true,
       "mode": "view",
       "name": null,
       "object_ids": [
        140297170254224
       ],
       "rendering_steps": 1,
       "screenshot": "",
       "screenshot_scale": 2,
       "snapshot": "",
       "time": 0,
       "voxel_paint_color": 0
      }
     },
     "905a10ae7e8c4781a3856ff7e3fe5fd0": {
      "model_module": "@jupyter-widgets/base",
      "model_module_version": "1.2.0",
      "model_name": "LayoutModel",
      "state": {}
     },
     "962a296364c741b79a05e5248de494ed": {
      "model_module": "@jupyter-widgets/output",
      "model_module_version": "1.0.0",
      "model_name": "OutputModel",
      "state": {
       "layout": "IPY_MODEL_1efac533283c43579691255510eb53f5",
       "outputs": [
        {
         "data": {
          "application/vnd.jupyter.widget-view+json": {
           "model_id": "13839c33c91347d3bd47124689078ea4",
           "version_major": 2,
           "version_minor": 0
          },
          "text/plain": "Plot(antialias=3, axes=['x', 'y', 'z'], axes_helper=1.0, background_color=16777215, camera=[4.5, 4.5, 4.5, 0.0…"
         },
         "metadata": {},
         "output_type": "display_data"
        }
       ]
      }
     },
     "979fc1254eec4e61a0c01a7ca7bf37f1": {
      "model_module": "@jupyter-widgets/base",
      "model_module_version": "1.2.0",
      "model_name": "LayoutModel",
      "state": {}
     },
     "a64e6b7c0b3d45e0a31fc6217da95e6b": {
      "model_module": "@jupyter-widgets/base",
      "model_module_version": "1.2.0",
      "model_name": "LayoutModel",
      "state": {}
     },
     "b6e9a575358049b78e464acebe8fc8d6": {
      "model_module": "@jupyter-widgets/base",
      "model_module_version": "1.2.0",
      "model_name": "LayoutModel",
      "state": {}
     },
     "c50feecd05174d2c852a7601f0d8340f": {
      "model_module": "@jupyter-widgets/base",
      "model_module_version": "1.2.0",
      "model_name": "LayoutModel",
      "state": {}
     },
     "cc1c772dbfe04a4282fa49a5aea703b9": {
      "model_module": "@jupyter-widgets/controls",
      "model_module_version": "1.5.0",
      "model_name": "VBoxModel",
      "state": {
       "_dom_classes": [
        "widget-interact"
       ],
       "children": [
        "IPY_MODEL_0756b77b645743948616691e03f95b06",
        "IPY_MODEL_e43282cc5fc3468c90c031f781b76363"
       ],
       "layout": "IPY_MODEL_c50feecd05174d2c852a7601f0d8340f"
      }
     },
     "e43282cc5fc3468c90c031f781b76363": {
      "model_module": "@jupyter-widgets/output",
      "model_module_version": "1.0.0",
      "model_name": "OutputModel",
      "state": {
       "layout": "IPY_MODEL_b6e9a575358049b78e464acebe8fc8d6",
       "outputs": [
        {
         "name": "stdout",
         "output_type": "stream",
         "text": "10\n0 0 0 0 0 0 0 0 0 0 \n1 1 1 1 1 1 1 1 1 1 \n2 2 2 2 2 2 2 2 2 2 \n3 3 3 3 3 3 3 3 3 3 \n4 4 4 4 4 4 4 4 4 4 \n5 5 5 5 5 5 5 5 5 5 \n6 6 6 6 6 6 6 6 6 6 \n7 7 7 7 7 7 7 7 7 7 \n8 8 8 8 8 8 8 8 8 8 \n9 9 9 9 9 9 9 9 9 9 \n"
        }
       ]
      }
     }
    },
    "version_major": 2,
    "version_minor": 0
   }
  }
 },
 "nbformat": 4,
 "nbformat_minor": 2
}
