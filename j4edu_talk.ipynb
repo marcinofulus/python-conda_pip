{
 "cells": [
  {
   "cell_type": "markdown",
   "metadata": {
    "slideshow": {
     "slide_type": "slide"
    }
   },
   "source": [
    "# What is Jupyter ?\n",
    "\n",
    "<img src=\"https://jupyter.org/assets/main-logo.svg\" alt=\"drawing\" width=\"15%\"/>\n",
    "\n",
    "\n",
    "- Spun-off from IPython in 2014 by Fernando Pérez,\n",
    "- execution environments in several dozen languages.\n",
    "\n",
    "\n",
    "*Project Jupyter exists to develop open-source software, open-standards, and services for interactive computing across dozens of programming languages.*\n",
    "\n",
    "*\"Jupyter will always be 100% open-source software, free for all to use and released under the liberal terms of the modified BSD license*\n",
    "\n"
   ]
  },
  {
   "cell_type": "markdown",
   "metadata": {
    "slideshow": {
     "slide_type": "slide"
    }
   },
   "source": [
    "## Jupyter Notebook\n",
    "\n",
    " - a Jupyter Notebook document is a JSON document \n",
    " - ordered list of input/output cells \n",
    " - cells  can contain code, text (using Markdown), mathematics, plots and rich media, \n",
    " - usually ending with the \".ipynb\" extension.*\n",
    " - Jupyter interest overtook the popularity of the Mathematica notebook interface in early 2018 [link](https://trends.google.com/trends/explore?date=all&geo=US&q=Mathematica,Jupyter)\n",
    " \n"
   ]
  },
  {
   "cell_type": "markdown",
   "metadata": {
    "slideshow": {
     "slide_type": "slide"
    }
   },
   "source": [
    "## Jupyter kernels\n",
    "\n",
    "<img src=\"https://jupyter.readthedocs.io/en/latest/_images/notebook_components.png\" align='right' alt=\"drawing\" width=\"40%\"/>\n",
    "\n",
    "\n",
    " - a program responsible for handling various types of request\n",
    " - [List of kernels](https://github.com/jupyter/jupyter/wiki/Jupyter-kernels)\n",
    " - Python/R/Julia/SageMath\n",
    " \n",
    " "
   ]
  },
  {
   "cell_type": "markdown",
   "metadata": {
    "slideshow": {
     "slide_type": "slide"
    }
   },
   "source": [
    "## Jupyterhub\n",
    "\n",
    "<img src=\"https://jupyter.org/assets/hublogo.svg\" align='right' alt=\"drawing\" width=\"30%\"/>\n",
    "\n",
    " - system serving Jupyter notebooks for multiple users\n",
    " - flexible\n",
    " - extensible\n"
   ]
  },
  {
   "cell_type": "markdown",
   "metadata": {
    "slideshow": {
     "slide_type": "slide"
    }
   },
   "source": [
    "# How to use Jupyter?\n",
    "\n",
    "<img src=\"https://jupyter.readthedocs.io/en/latest/_images/nbconvert.png\" align='right' alt=\"drawing\" width=\"50%\"/>\n",
    "\n",
    " - stand alone application \n",
    " - central installation\n",
    " - container (mybinder)\n",
    " - notebook format processing, e.g. for book authoring\n",
    "\n",
    " "
   ]
  },
  {
   "cell_type": "markdown",
   "metadata": {
    "slideshow": {
     "slide_type": "slide"
    }
   },
   "source": [
    "# Who is using Jupyter?\n",
    "\n",
    " - data scientists \n",
    " - code exploration, prototypying with code and software\n",
    " - educators - it can be easily used in schools/universities at many levels\n",
    " -  example: *Canadians Land on Jupyter* [link at blog.jupyter.org](https://blog.jupyter.org/national-scale-interactive-computing-2c104455e062)\n",
    " \n",
    " "
   ]
  },
  {
   "cell_type": "markdown",
   "metadata": {
    "slideshow": {
     "slide_type": "slide"
    }
   },
   "source": [
    "# Jupyter @ SMCEBI - jupyterhub\n",
    "\n",
    "- Central installation for students and researchers\n",
    " - LDAP\n",
    " - backuped home\n",
    " - SLURM for scalability\n",
    " \n",
    "- Isolated instances with OAuth\n",
    " - gmail as login\n",
    " - admin can whitelist users\n",
    " - isolated but not backuped \n",
    "\n",
    "- special installation  of nbgrader for selected coursed\n"
   ]
  },
  {
   "cell_type": "markdown",
   "metadata": {
    "slideshow": {
     "slide_type": "slide"
    }
   },
   "source": [
    "# Stats, experiences\n",
    "\n",
    " - We have c.a. active 400 users of `alfa` system which is used for many courses\n",
    " - In total \n",
    " - We conducted evaluation: [Pool](https://jupyter4edu.smcebi.edu.pl/evaluation)"
   ]
  },
  {
   "cell_type": "markdown",
   "metadata": {
    "slideshow": {
     "slide_type": "slide"
    }
   },
   "source": [
    "# Jupyter in practice  (edu)\n",
    "\n",
    "- Introduction to AI 30+30h\n",
    "- nbgrader was used \n",
    "- Jupyter was a main tool\n",
    "- rather positive feedbacks\n",
    "- nbgrader requires **faultless**  problems and tests."
   ]
  },
  {
   "cell_type": "markdown",
   "metadata": {
    "slideshow": {
     "slide_type": "slide"
    }
   },
   "source": [
    "## Conclusions\n",
    "\n",
    "** Jupyter is the new Excel **\n",
    "\n"
   ]
  },
  {
   "cell_type": "markdown",
   "metadata": {
    "slideshow": {
     "slide_type": "subslide"
    }
   },
   "source": [
    "(but not for your boss)\n",
    "\n",
    "  1. https://towardsdatascience.com/jupyter-is-the-new-excel-but-not-for-your-boss-d24340ebf314\n",
    "  2. https://towardsdatascience.com/jupyter-is-the-new-excel-a7a22f2fc13a"
   ]
  },
  {
   "cell_type": "markdown",
   "metadata": {
    "slideshow": {
     "slide_type": "slide"
    }
   },
   "source": [
    "## Jupyter notebook examples"
   ]
  },
  {
   "cell_type": "markdown",
   "metadata": {
    "slideshow": {
     "slide_type": "subslide"
    }
   },
   "source": [
    " ![k](https://jupyter.org/assets/jupyterpreview.png)"
   ]
  },
  {
   "cell_type": "code",
   "execution_count": 3,
   "metadata": {
    "slideshow": {
     "slide_type": "subslide"
    }
   },
   "outputs": [],
   "source": [
    "from ipywidgets import IntSlider, interact"
   ]
  },
  {
   "cell_type": "code",
   "execution_count": 9,
   "metadata": {
    "slideshow": {
     "slide_type": "subslide"
    }
   },
   "outputs": [
    {
     "data": {
      "application/vnd.jupyter.widget-view+json": {
       "model_id": "",
       "version_major": 2,
       "version_minor": 0
      },
      "text/plain": [
       "interactive(children=(IntSlider(value=0, description='s'), Output()), _dom_classes=('widget-interact',))"
      ]
     },
     "metadata": {},
     "output_type": "display_data"
    }
   ],
   "source": [
    "@interact(s=IntSlider())\n",
    "def fun(s):\n",
    "    print(s)\n",
    "    for i in range(s):\n",
    "        for j in range(s):\n",
    "            print(i,end=' ')\n",
    "        print()"
   ]
  },
  {
   "cell_type": "code",
   "execution_count": 1,
   "metadata": {
    "slideshow": {
     "slide_type": "subslide"
    }
   },
   "outputs": [
    {
     "data": {
      "application/vnd.jupyter.widget-view+json": {
       "model_id": "",
       "version_major": 2,
       "version_minor": 0
      },
      "text/plain": [
       "Output()"
      ]
     },
     "metadata": {},
     "output_type": "display_data"
    }
   ],
   "source": [
    "import k3d\n",
    "import numpy as np\n",
    "p = k3d.plot(height=400)\n",
    "x = np.linspace(0,3,30).astype(np.float32)\n",
    "x,y = np.meshgrid(x,x)\n",
    "p += k3d.surface(np.sin(1*x**2+1*y**2),bounds=(0,10,0,10))\n",
    "p.display()"
   ]
  },
  {
   "cell_type": "code",
   "execution_count": 2,
   "metadata": {
    "slideshow": {
     "slide_type": "fragment"
    }
   },
   "outputs": [],
   "source": [
    "for f in np.linspace(0,6,100):\n",
    "    p.objects[0].heights = np.sin(1*x**2+1*y**2+f)"
   ]
  },
  {
   "cell_type": "code",
   "execution_count": 52,
   "metadata": {
    "slideshow": {
     "slide_type": "subslide"
    }
   },
   "outputs": [],
   "source": [
    "%matplotlib inline\n",
    "import matplotlib.pyplot as plt\n",
    "import numpy as np"
   ]
  },
  {
   "cell_type": "code",
   "execution_count": 53,
   "metadata": {
    "slideshow": {
     "slide_type": "subslide"
    }
   },
   "outputs": [
    {
     "data": {
      "text/plain": [
       "<matplotlib.collections.PathCollection at 0x129b8a898>"
      ]
     },
     "execution_count": 53,
     "metadata": {},
     "output_type": "execute_result"
    },
    {
     "data": {
      "image/png": "[encoded data removed]",
      "text/plain": [
       "<Figure size 432x288 with 1 Axes>"
      ]
     },
     "metadata": {
      "needs_background": "light"
     },
     "output_type": "display_data"
    }
   ],
   "source": [
    "plt.scatter(np.random.randn(1000),\n",
    "            np.random.randn(1000),\n",
    "            c=np.random.randn(1000), s=100)"
   ]
  },
  {
   "cell_type": "code",
   "execution_count": 49,
   "metadata": {
    "slideshow": {
     "slide_type": "skip"
    }
   },
   "outputs": [
    {
     "data": {
      "text/plain": [
       "9.870889606139547"
      ]
     },
     "execution_count": 49,
     "metadata": {},
     "output_type": "execute_result"
    }
   ],
   "source": []
  },
  {
   "cell_type": "code",
   "execution_count": 11,
   "metadata": {
    "slideshow": {
     "slide_type": "notes"
    }
   },
   "outputs": [
    {
     "data": {
      "text/plain": [
       "4"
      ]
     },
     "execution_count": 11,
     "metadata": {},
     "output_type": "execute_result"
    }
   ],
   "source": [
    "2+2"
   ]
  },
  {
   "cell_type": "code",
   "execution_count": null,
   "metadata": {
    "slideshow": {
     "slide_type": "skip"
    }
   },
   "outputs": [],
   "source": []
  }
 ],
 "metadata": {
  "celltoolbar": "Slideshow",
  "kernelspec": {
   "display_name": "Python 3",
   "language": "python",
   "name": "python3"
  },
  "language_info": {
   "codemirror_mode": {
    "name": "ipython",
    "version": 3
   },
   "file_extension": ".py",
   "mimetype": "text/x-python",
   "name": "python",
   "nbconvert_exporter": "python",
   "pygments_lexer": "ipython3",
   "version": "3.7.3"
  },
  "nbTranslate": {
   "displayLangs": [
    "en",
    "pl"
   ],
   "hotkey": "alt-t",
   "langInMainMenu": true,
   "sourceLang": "pl",
   "targetLang": "en",
   "useGoogleTranslate": true
  },
  "toc": {
   "base_numbering": 1,
   "nav_menu": {},
   "number_sections": true,
   "sideBar": true,
   "skip_h1_title": false,
   "title_cell": "Table of Contents",
   "title_sidebar": "Contents",
   "toc_cell": false,
   "toc_position": {},
   "toc_section_display": true,
   "toc_window_display": false
  }
 },
 "nbformat": 4,
 "nbformat_minor": 2
}
