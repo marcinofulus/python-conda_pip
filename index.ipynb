{
 "cells": [
  {
   "cell_type": "markdown",
   "metadata": {
    "slideshow": {
     "slide_type": "slide"
    }
   },
   "source": [
    "# NBGRADER - tutorial\n",
    "\n"
   ]
  },
  {
   "cell_type": "markdown",
   "metadata": {
    "slideshow": {
     "slide_type": "slide"
    }
   },
   "source": [
    "# NBGRADER \n",
    "\n",
    " - Jupyter notebook \n",
    " - Experimenting using mybinder &  `github.com`\n",
    " - Howto test your code?\n",
    " - Tutorial\n",
    " - Demo - using nbgrader with `Jupyterhub`\n",
    " \n"
   ]
  },
  {
   "cell_type": "markdown",
   "metadata": {
    "slideshow": {
     "slide_type": "slide"
    }
   },
   "source": [
    "# Jupyter \n",
    "## Notebook for writing books\n",
    "\n",
    " - idea - easy writing of text&code in Jupyter notebook \n",
    " - reasonable well looking PDF/HTML for output\n",
    " - Examples:\n",
    "     - https://github.com/marcinofulus/Mechanics_with_SageMath\n",
    "     - https://github.com/fangohr/introduction-to-python-for-computational-science-and-engineering\n",
    " \n",
    " "
   ]
  },
  {
   "cell_type": "markdown",
   "metadata": {
    "slideshow": {
     "slide_type": "slide"
    }
   },
   "source": [
    "# NBGRADER\n",
    "##  philosophy  and approach\n",
    "\n",
    "**https://nbgrader.readthedocs.io**\n",
    "\n",
    "Section: *The philosophy and the approach*\n"
   ]
  },
  {
   "cell_type": "markdown",
   "metadata": {
    "slideshow": {
     "slide_type": "slide"
    }
   },
   "source": [
    "## NBGRADER - structure \n",
    "\n",
    "    course101/\n",
    "    ├── gradebook.db\n",
    "    ├── nbgrader_config.py\n",
    "    ├── source\n",
    "    ├── release\n",
    "    ├── submitted\n",
    "    ├── autograded/\n",
    "    └── feedback/\n",
    "\n"
   ]
  },
  {
   "cell_type": "markdown",
   "metadata": {
    "slideshow": {
     "slide_type": "slide"
    }
   },
   "source": [
    "## NBGRADER - structure\n",
    "\n",
    "    course101/\n",
    "    ├── gradebook.db\n",
    "    ├── nbgrader_config.py\n",
    "    ├── source\n",
    "    │   ├── header.ipynb\n",
    "    │   └── ps1\n",
    "    │       ├── problem1.ipynb\n",
    "    ├── release\n",
    "    │   └── ps1\n",
    "    │       ├── problem1.ipynb"
   ]
  },
  {
   "cell_type": "markdown",
   "metadata": {
    "slideshow": {
     "slide_type": "slide"
    }
   },
   "source": [
    "## NBGRADER - structure\n",
    "\n",
    "\n",
    "    course101/\n",
    "    ├── submitted\n",
    "    │   ├── bitdiddle\n",
    "    │   │   └── ps1\n",
    "    │   │       ├── problem1.ipynb\n",
    "    │   │       └── timestamp.txt\n",
    "    │   └── hacker\n",
    "    │       └── ps1\n",
    "    │           ├── problem1.ipynb\n",
    "    │           └── timestamp.txt\n",
    "    ├── autograded/\n",
    "    └── feedback/"
   ]
  },
  {
   "cell_type": "code",
   "execution_count": null,
   "metadata": {},
   "outputs": [],
   "source": []
  }
 ],
 "metadata": {
  "celltoolbar": "Slideshow",
  "kernelspec": {
   "display_name": "Python 3",
   "language": "python",
   "name": "python3"
  },
  "language_info": {
   "codemirror_mode": {
    "name": "ipython",
    "version": 3
   },
   "file_extension": ".py",
   "mimetype": "text/x-python",
   "name": "python",
   "nbconvert_exporter": "python",
   "pygments_lexer": "ipython3",
   "version": "3.7.3"
  },
  "nbTranslate": {
   "displayLangs": [
    "en",
    "pl"
   ],
   "hotkey": "alt-t",
   "langInMainMenu": true,
   "sourceLang": "pl",
   "targetLang": "en",
   "useGoogleTranslate": true
  },
  "toc": {
   "base_numbering": 1,
   "nav_menu": {},
   "number_sections": true,
   "sideBar": true,
   "skip_h1_title": false,
   "title_cell": "Table of Contents",
   "title_sidebar": "Contents",
   "toc_cell": false,
   "toc_position": {},
   "toc_section_display": true,
   "toc_window_display": false
  }
 },
 "nbformat": 4,
 "nbformat_minor": 2
}
