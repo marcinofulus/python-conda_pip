{
 "cells": [
  {
   "cell_type": "markdown",
   "metadata": {},
   "source": [
    "For this problem set, we'll be using the Jupyter notebook:\n",
    "\n",
    "![](jupyter.png)"
   ]
  },
  {
   "cell_type": "markdown",
   "metadata": {},
   "source": [
    "## Solve\n",
    "\n",
    "4 numbers are multiplies of 8, sum 336?\n",
    "\n",
    "\n",
    "Use brute force if possible!\n",
    "\n",
    "Other solution can be:\n",
    "\n",
    "    import sympy\n",
    "    x = sympy.var('x')\n",
    "    s = sympy.solve(8*x+8*(x+1)+8*(x+2)+8*(x+3)-368,x)[0]\n",
    "    numbers = [8*(s+i) for i in range(4)]"
   ]
  },
  {
   "cell_type": "code",
   "execution_count": 1,
   "metadata": {
    "nbgrader": {
     "grade": false,
     "grade_id": "cell-f761c36a52f85bfe",
     "locked": false,
     "schema_version": 3,
     "solution": true,
     "task": false
    }
   },
   "outputs": [
    {
     "name": "stdout",
     "output_type": "stream",
     "text": [
      "[0, 8, 16, 24] ::: 48\n",
      "[8, 16, 24, 32] ::: 80\n",
      "[16, 24, 32, 40] ::: 112\n",
      "[24, 32, 40, 48] ::: 144\n",
      "[32, 40, 48, 56] ::: 176\n",
      "[40, 48, 56, 64] ::: 208\n",
      "[48, 56, 64, 72] ::: 240\n",
      "[56, 64, 72, 80] ::: 272\n",
      "[64, 72, 80, 88] ::: 304\n",
      "[72, 80, 88, 96] ::: 336\n"
     ]
    }
   ],
   "source": [
    "numbers = []\n",
    "### BEGIN SOLUTION\n",
    "for s in range(20):\n",
    "    numbers = [(i+s)*8 for i in range(4)]\n",
    "    print(numbers,':::' ,sum(numbers))\n",
    "\n",
    "    if sum(numbers) == 336:\n",
    "        break\n",
    "### END SOLUTION"
   ]
  },
  {
   "cell_type": "code",
   "execution_count": 2,
   "metadata": {
    "nbgrader": {
     "grade": true,
     "grade_id": "cell-015ea81bcf5f9ee0",
     "locked": true,
     "points": 1,
     "schema_version": 3,
     "solution": false,
     "task": false
    }
   },
   "outputs": [],
   "source": [
    "assert sum(numbers) == 336 \n",
    "assert len(numbers) == 4\n",
    "\n",
    "for i in range(1,4):\n",
    "    assert numbers[i]-numbers[i-1] == 8\n"
   ]
  }
 ],
 "metadata": {
  "celltoolbar": "Create Assignment",
  "kernelspec": {
   "display_name": "Python 3",
   "language": "python",
   "name": "python3"
  },
  "language_info": {
   "codemirror_mode": {
    "name": "ipython",
    "version": 3
   },
   "file_extension": ".py",
   "mimetype": "text/x-python",
   "name": "python",
   "nbconvert_exporter": "python",
   "pygments_lexer": "ipython3",
   "version": "3.7.3"
  },
  "nbTranslate": {
   "displayLangs": [
    "en",
    "pl"
   ],
   "hotkey": "alt-t",
   "langInMainMenu": true,
   "sourceLang": "pl",
   "targetLang": "en",
   "useGoogleTranslate": true
  },
  "toc": {
   "base_numbering": 1,
   "nav_menu": {},
   "number_sections": true,
   "sideBar": true,
   "skip_h1_title": false,
   "title_cell": "Table of Contents",
   "title_sidebar": "Contents",
   "toc_cell": false,
   "toc_position": {},
   "toc_section_display": true,
   "toc_window_display": false
  }
 },
 "nbformat": 4,
 "nbformat_minor": 2
}
